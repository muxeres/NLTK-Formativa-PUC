{
  "nbformat": 4,
  "nbformat_minor": 0,
  "metadata": {
    "colab": {
      "provenance": [],
      "include_colab_link": true
    },
    "kernelspec": {
      "name": "python3",
      "display_name": "Python 3"
    }
  },
  "cells": [
    {
      "cell_type": "markdown",
      "metadata": {
        "id": "view-in-github",
        "colab_type": "text"
      },
      "source": [
        "<a href=\"https://colab.research.google.com/github/muxeres/NLTK-Formativa-PUC/blob/master/%5BONLINE%5D_Similaridade_Sem%C3%A2ntica.ipynb\" target=\"_parent\"><img src=\"https://colab.research.google.com/assets/colab-badge.svg\" alt=\"Open In Colab\"/></a>"
      ]
    },
    {
      "cell_type": "markdown",
      "metadata": {
        "id": "ZxuZhoBCjK5N"
      },
      "source": [
        "# Similaridade Semântica\n",
        "## Processamento de Linguagem Natural\n",
        "A Similaridade semântica é medida através da semelhança de  **significado** ou **conteúdo semântico** entre palavras/sentenças/documentos.\n",
        "\n",
        "Nesta aula você realizará atividades práticas relacionadas a  **Similaridade semântica**, visando entender qual o seu papel nas mais diversas aplicações de PLN, além de utilizar a interface de WordNet do NLTK para língua inglesa.\n",
        "\n",
        "**WordNet** é a rede semântica mais popular na área de medir a similaridade *knowledge-based*; O WordNet é um grande banco de dados léxico, disponível em diversos idiomas. Substantivos, verbos, adjetivos e advérbios são agrupados em conjuntos de sinônimos cognitivos (*synsets*), cada um expressando um conceito distinto. Os *synsets* são interligados por meio de relações conceitual-semânticas e léxicas."
      ]
    },
    {
      "cell_type": "markdown",
      "metadata": {
        "id": "8OJ3lTYY8ooS"
      },
      "source": [
        "### Acessando o WordNet utilizando o NLTK\n",
        "Infelizmente o NLTK ainda não dá suporte ao acesso direto a busca em algum grande WordNet em português (e.g., openWordnet-PT, WordNet.PT). Trabalharemos nossos exemplos em inglês e utilizando a versão em português contida no [Open Multilingual Wordnet](http://compling.hss.ntu.edu.sg/omw/) que o NLTK dá suporte."
      ]
    },
    {
      "cell_type": "code",
      "metadata": {
        "id": "XsX9EbzQ-10R"
      },
      "source": [
        "# Você deve importar o corpus do WordNet\n",
        "import nltk\n",
        "from nltk.corpus import wordnet\n",
        "# Precisa efetuar o download do wordnet\n",
        "nltk.download('wordnet')\n",
        "# Caso use o Open Multilingual Wordnet\n",
        "nltk.download('omw')"
      ],
      "execution_count": null,
      "outputs": []
    },
    {
      "cell_type": "code",
      "metadata": {
        "id": "8H5n6Cbi_PxD"
      },
      "source": [
        "# Obtém o(s) synset(s) para a palavra \"pain\" (dor)\n",
        "syn = wordnet.synsets(\"pain\")\n",
        "# Imprime a definição\n",
        "print(syn[0].definition())\n",
        "# Imprime exemplos de aplicação em uma frase\n",
        "print(syn[0].examples())"
      ],
      "execution_count": null,
      "outputs": []
    },
    {
      "cell_type": "markdown",
      "metadata": {
        "id": "7wRbw0gMRAI4"
      },
      "source": [
        "\n",
        "\n",
        "> **O que é um `synset`?** É um conjunto de sinônimos que compartilham um mesmo significado.\n",
        "\n"
      ]
    },
    {
      "cell_type": "code",
      "metadata": {
        "id": "RYKpMj6n_zZi"
      },
      "source": [
        "# Temos uma lista de synset possíveis para a palavra pesquisada\n",
        "syn"
      ],
      "execution_count": null,
      "outputs": []
    },
    {
      "cell_type": "markdown",
      "metadata": {
        "id": "GJMFEAdsRXva"
      },
      "source": [
        "\n",
        "\n",
        "> Cada `synset` possui um ou mais `lemmas`, que representam um significado particular de uma palavra específica.\n",
        "\n"
      ]
    },
    {
      "cell_type": "markdown",
      "metadata": {
        "id": "EPKwn0fUQlLj"
      },
      "source": [
        "#### Utilizando `synsets` e `lemmas` em português através do Open Multilingual Wordnet"
      ]
    },
    {
      "cell_type": "code",
      "metadata": {
        "id": "fEgCz3i8EZHX"
      },
      "source": [
        "# Busca synsets em português\n",
        "wordnet.synsets(\"cão\", lang=\"por\")"
      ],
      "execution_count": null,
      "outputs": []
    },
    {
      "cell_type": "code",
      "metadata": {
        "id": "Z-OosBEvSojr"
      },
      "source": [
        "# Busca lemmas em português\n",
        "wordnet.lemmas(\"cão\", lang=\"por\")"
      ],
      "execution_count": null,
      "outputs": []
    },
    {
      "cell_type": "markdown",
      "metadata": {
        "id": "uCIs8xwMBM4D"
      },
      "source": [
        "#### Atividade prática - Construindo uma função de **sugestão de sinônimos**\n",
        "Você já deve ter visto em aplicativos como o Microsoft Word a funcionalidade de sugerir sinônimos de uma palavras. Com o auxílio do WordNet conseguimos facilmente obter sinônimos de uma dada palavra.\n",
        "\n",
        "\n",
        "---\n",
        "\n",
        "\n",
        "![String-based similarity measures](https://docs.google.com/uc?export=download&id=1-VKDiXbIdSgwJzBvXjgdP47R-dPe--XG)"
      ]
    },
    {
      "cell_type": "code",
      "metadata": {
        "id": "bQ796E3uCEqk"
      },
      "source": [
        "def buscarSinonimos(palavra):\n",
        "\n",
        ""
      ],
      "execution_count": null,
      "outputs": []
    },
    {
      "cell_type": "code",
      "metadata": {
        "id": "JmovaEpnCAW_"
      },
      "source": [
        "#A seguir pediremos que o usuário digite uma palavra\n",
        "palavra = input(\"Digite uma palavra: \")\n",
        "\n",
        "# Busca sinonimos da palavra\n",
        "buscarSinonimos(palavra)"
      ],
      "execution_count": null,
      "outputs": []
    },
    {
      "cell_type": "markdown",
      "metadata": {
        "id": "gaSDpkfTC6ac"
      },
      "source": [
        "\n",
        "\n",
        "> **ATIVIDADE EXTRA**: Agora faça uma função de busca por palavras opostas (antônimos).\n",
        "DICA: além da função `name()` o objeto `lemma` tem também a função `.antonyms()`.\n",
        "\n"
      ]
    },
    {
      "cell_type": "code",
      "metadata": {
        "id": "MzIufYKEDKVj"
      },
      "source": [],
      "execution_count": null,
      "outputs": []
    },
    {
      "cell_type": "markdown",
      "metadata": {
        "id": "_mW-HLayieqE"
      },
      "source": [
        "### Acessando diferentes níveis hierárquicos\n",
        "Além dos sinônimos e antônimos podemos acessar termos com diferentes relações hierarquicas entre si."
      ]
    },
    {
      "cell_type": "markdown",
      "metadata": {
        "id": "TnXnApMYkaB2"
      },
      "source": [
        "#### Hiponímias"
      ]
    },
    {
      "cell_type": "code",
      "metadata": {
        "id": "2HfrYBsPio1p"
      },
      "source": [
        "fruta = wordnet.synsets(\"fruta\", lang=\"por\")[0]\n",
        "fruta.hyponyms()"
      ],
      "execution_count": null,
      "outputs": []
    },
    {
      "cell_type": "markdown",
      "metadata": {
        "id": "vUbKu969klHV"
      },
      "source": [
        "#### Hiperonímias"
      ]
    },
    {
      "cell_type": "code",
      "metadata": {
        "id": "vCgbOWWPklQi"
      },
      "source": [
        "cidade = wordnet.synsets(\"cidade\", lang=\"por\")[0]\n",
        "cidade.hypernyms()"
      ],
      "execution_count": null,
      "outputs": []
    },
    {
      "cell_type": "markdown",
      "metadata": {
        "id": "e2N9y8obn3d_"
      },
      "source": [
        "É possível encontrar o hiperônimo mais próximo entre dois termos."
      ]
    },
    {
      "cell_type": "code",
      "metadata": {
        "id": "nZOGN7v3n3nZ"
      },
      "source": [
        "bulldog = wordnet.synsets(\"bulldog\")[0]\n",
        "pug = wordnet.synsets(\"pug\")[0]\n",
        "bulldog.lowest_common_hypernyms(pug)"
      ],
      "execution_count": null,
      "outputs": []
    },
    {
      "cell_type": "markdown",
      "metadata": {
        "id": "O4JEvwWKlUpa"
      },
      "source": [
        "#### Meronímias"
      ]
    },
    {
      "cell_type": "code",
      "metadata": {
        "id": "G_oX-M25lUwy"
      },
      "source": [
        "mao = wordnet.synsets(\"mão\", lang=\"por\")[0]\n",
        "mao.part_meronyms()"
      ],
      "execution_count": null,
      "outputs": []
    },
    {
      "cell_type": "code",
      "metadata": {
        "id": "YeVEPpLMlq7K"
      },
      "source": [
        "saliva = wordnet.synsets(\"saliva\", lang=\"por\")[0]\n",
        "saliva.substance_meronyms()"
      ],
      "execution_count": null,
      "outputs": []
    },
    {
      "cell_type": "markdown",
      "metadata": {
        "id": "_Yf0YSKHlU41"
      },
      "source": [
        "#### Holonímias"
      ]
    },
    {
      "cell_type": "code",
      "metadata": {
        "id": "3mUFYxHUlU_E"
      },
      "source": [
        "arvore = wordnet.synsets(\"árvore\", lang=\"por\")[0]\n",
        "arvore.member_holonyms()"
      ],
      "execution_count": null,
      "outputs": []
    },
    {
      "cell_type": "markdown",
      "metadata": {
        "id": "0iZCs6hmq6nQ"
      },
      "source": [
        "#### Polissemias"
      ]
    },
    {
      "cell_type": "markdown",
      "metadata": {
        "id": "_JA0-WyerBBr"
      },
      "source": [
        "##### **Atividade prática** - Buscando polissemias\n",
        "A polissemia é a quantidade de sentidos/significados de uma palavra.\n",
        "\n",
        "Utilizando a interface do WordNet podemos determinar que o substantivo \"cachorro\" tem 7 diferentes significados ao utilizar o código: `len(wordnet.synsets('dog', 'n'))`\n",
        "\n",
        "Calcule a média de polissemias entre os substantivos (n), verbos (v) e adjetivos (a).\n",
        "\n",
        "> **DICA**: Você pode obter todos `synsets` substantivos usando `wordnet.all_synsets('n')`\n",
        "\n",
        "\n",
        "\n"
      ]
    },
    {
      "cell_type": "code",
      "metadata": {
        "id": "SFBH18rfq6xj"
      },
      "source": [],
      "execution_count": null,
      "outputs": []
    },
    {
      "cell_type": "markdown",
      "metadata": {
        "id": "6x0pHTX1X1AO"
      },
      "source": [
        "### Calculando Similaridade semântica entre palavras\n",
        "Algumas funções de similaridade *knowledge-based* já são implementadas pela interface do WordNet no NLTK.\n",
        "\n",
        "![Knowledge-based similarity measures](https://docs.google.com/uc?export=download&id=1g-3cWh9BF6Ex8oWDv77L1mdagUq0yc0v)"
      ]
    },
    {
      "cell_type": "code",
      "metadata": {
        "id": "HTR95Ekvch42"
      },
      "source": [
        "gato = wordnet.synsets(\"gato\", lang=\"por\")[0]\n",
        "cachorro = wordnet.synsets(\"dog\")[0]\n",
        "\n",
        "chocar = wordnet.synsets(\"chocar\", lang=\"por\")[0]\n",
        "colidir = wordnet.synsets(\"colidir\", lang=\"por\")[0]\n",
        "\n",
        "caneta = wordnet.synsets(\"caneta\", lang=\"por\")[0]"
      ],
      "execution_count": null,
      "outputs": []
    },
    {
      "cell_type": "code",
      "metadata": {
        "id": "FLI-lBBIdDnY"
      },
      "source": [
        "gato"
      ],
      "execution_count": null,
      "outputs": []
    },
    {
      "cell_type": "code",
      "metadata": {
        "id": "IoU5bEw7dDuj"
      },
      "source": [
        "cachorro"
      ],
      "execution_count": null,
      "outputs": []
    },
    {
      "cell_type": "markdown",
      "metadata": {
        "id": "ZLGja1jWc4Gp"
      },
      "source": [
        "\n",
        "\n",
        "> **IMPORTANTE**: Não importa o idioma que você busque, a referência será sempre aos mesmos `synsets`\n",
        "\n"
      ]
    },
    {
      "cell_type": "markdown",
      "metadata": {
        "id": "fadmA2UqZnHj"
      },
      "source": [
        "#### **Path Similarity** (path)\n",
        "Retorna uma pontuação indicando o quão semelhantes os sentidos de duas palavras são, com base no caminho mais curto que conecta os sentidos na taxonomia *is-a* (é-um) (Hiperonímia / Hiponímia). A pontuação está no intervalo de 0 a 1."
      ]
    },
    {
      "cell_type": "code",
      "metadata": {
        "id": "exSZ-A0eX7On"
      },
      "source": [
        "cachorro.path_similarity(gato)"
      ],
      "execution_count": null,
      "outputs": []
    },
    {
      "cell_type": "code",
      "metadata": {
        "id": "XwoBGMaHeMGi"
      },
      "source": [
        "chocar.path_similarity(colidir)"
      ],
      "execution_count": null,
      "outputs": []
    },
    {
      "cell_type": "code",
      "metadata": {
        "id": "8ha2c4rCeMO8"
      },
      "source": [
        "gato.path_similarity(caneta)"
      ],
      "execution_count": null,
      "outputs": []
    },
    {
      "cell_type": "markdown",
      "metadata": {
        "id": "-io-45yxZwck"
      },
      "source": [
        "#### **Leacock-Chodorow Similarity** (lch)\n",
        "Similar ao anterior, porém utiliza também a profundidade máxima da taxonomia em que os sentidos ocorrem no cálculo."
      ]
    },
    {
      "cell_type": "code",
      "metadata": {
        "id": "o6c2W1a2ZwkW"
      },
      "source": [
        "cachorro.lch_similarity(gato)"
      ],
      "execution_count": null,
      "outputs": []
    },
    {
      "cell_type": "code",
      "metadata": {
        "id": "EiwqW-raesdE"
      },
      "source": [
        "chocar.lch_similarity(colidir)"
      ],
      "execution_count": null,
      "outputs": []
    },
    {
      "cell_type": "code",
      "metadata": {
        "id": "xuDGU4_Pesh9"
      },
      "source": [
        "gato.lch_similarity(caneta)"
      ],
      "execution_count": null,
      "outputs": []
    },
    {
      "cell_type": "markdown",
      "metadata": {
        "id": "UIK1-1B1Zwr6"
      },
      "source": [
        "#### **Wu-Palmer Similarity** (wup)\n",
        "Retorna uma pontuação indicando o quão  semelhantes os sentidos de duas palavras são, com base na profundidade dos dois sentidos na taxonomia e no seu nó ancestral mais específico."
      ]
    },
    {
      "cell_type": "code",
      "metadata": {
        "id": "11ghhQ5VZw1h"
      },
      "source": [
        "cachorro.wup_similarity(gato)"
      ],
      "execution_count": null,
      "outputs": []
    },
    {
      "cell_type": "code",
      "metadata": {
        "id": "AOAWtr4kgnno"
      },
      "source": [
        "chocar.wup_similarity(colidir)"
      ],
      "execution_count": null,
      "outputs": []
    },
    {
      "cell_type": "code",
      "metadata": {
        "id": "Pm_yFtRwgnu-"
      },
      "source": [
        "gato.wup_similarity(caneta)"
      ],
      "execution_count": null,
      "outputs": []
    },
    {
      "cell_type": "markdown",
      "metadata": {
        "id": "9OiN-gkc7X_k"
      },
      "source": [
        "## Referências e Material complementar\n",
        "\n",
        "*   [NLTK WordNet Interface](http://www.nltk.org/howto/wordnet.html)\n",
        "*   [openWordnet-PT](https://github.com/own-pt/openWordnet-PT)\n",
        "*   [WordNet.PT](http://wordnet.pt/)\n"
      ]
    },
    {
      "cell_type": "markdown",
      "metadata": {
        "id": "Thb-vTSMrney"
      },
      "source": [
        "Este notebook foi produzido por Prof. [Lucas Oliveira](http://lattes.cnpq.br/3611246009892500)."
      ]
    }
  ]
}