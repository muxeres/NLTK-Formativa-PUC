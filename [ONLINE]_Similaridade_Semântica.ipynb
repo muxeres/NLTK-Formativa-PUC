{
  "nbformat": 4,
  "nbformat_minor": 0,
  "metadata": {
    "colab": {
      "provenance": [],
      "include_colab_link": true
    },
    "kernelspec": {
      "name": "python3",
      "display_name": "Python 3"
    }
  },
  "cells": [
    {
      "cell_type": "markdown",
      "metadata": {
        "id": "view-in-github",
        "colab_type": "text"
      },
      "source": [
        "<a href=\"https://colab.research.google.com/github/muxeres/NLTK-Formativa-PUC/blob/master/%5BONLINE%5D_Similaridade_Sem%C3%A2ntica.ipynb\" target=\"_parent\"><img src=\"https://colab.research.google.com/assets/colab-badge.svg\" alt=\"Open In Colab\"/></a>"
      ]
    },
    {
      "cell_type": "markdown",
      "metadata": {
        "id": "ZxuZhoBCjK5N"
      },
      "source": [
        "# Similaridade Semântica\n",
        "## Processamento de Linguagem Natural\n",
        "A Similaridade semântica é medida através da semelhança de  **significado** ou **conteúdo semântico** entre palavras/sentenças/documentos.\n",
        "\n",
        "Nesta aula você realizará atividades práticas relacionadas a  **Similaridade semântica**, visando entender qual o seu papel nas mais diversas aplicações de PLN, além de utilizar a interface de WordNet do NLTK para língua inglesa.\n",
        "\n",
        "**WordNet** é a rede semântica mais popular na área de medir a similaridade *knowledge-based*; O WordNet é um grande banco de dados léxico, disponível em diversos idiomas. Substantivos, verbos, adjetivos e advérbios são agrupados em conjuntos de sinônimos cognitivos (*synsets*), cada um expressando um conceito distinto. Os *synsets* são interligados por meio de relações conceitual-semânticas e léxicas."
      ]
    },
    {
      "cell_type": "markdown",
      "metadata": {
        "id": "8OJ3lTYY8ooS"
      },
      "source": [
        "### Acessando o WordNet utilizando o NLTK\n",
        "Infelizmente o NLTK ainda não dá suporte ao acesso direto a busca em algum grande WordNet em português (e.g., openWordnet-PT, WordNet.PT). Trabalharemos nossos exemplos em inglês e utilizando a versão em português contida no [Open Multilingual Wordnet](http://compling.hss.ntu.edu.sg/omw/) que o NLTK dá suporte."
      ]
    },
    {
      "cell_type": "code",
      "metadata": {
        "id": "XsX9EbzQ-10R",
        "outputId": "f5595226-1c62-403e-f0fb-4d1a2601b087",
        "colab": {
          "base_uri": "https://localhost:8080/"
        }
      },
      "source": [
        "# Você deve importar o corpus do WordNet\n",
        "import nltk\n",
        "from nltk.corpus import wordnet\n",
        "# Precisa efetuar o download do wordnet\n",
        "nltk.download('wordnet')\n",
        "# Caso use o Open Multilingual Wordnet\n",
        "nltk.download('omw')"
      ],
      "execution_count": 38,
      "outputs": [
        {
          "output_type": "stream",
          "name": "stderr",
          "text": [
            "[nltk_data] Downloading package wordnet to /root/nltk_data...\n",
            "[nltk_data]   Package wordnet is already up-to-date!\n",
            "[nltk_data] Downloading package omw to /root/nltk_data...\n",
            "[nltk_data]   Package omw is already up-to-date!\n"
          ]
        },
        {
          "output_type": "execute_result",
          "data": {
            "text/plain": [
              "True"
            ]
          },
          "metadata": {},
          "execution_count": 38
        }
      ]
    },
    {
      "cell_type": "code",
      "metadata": {
        "id": "8H5n6Cbi_PxD",
        "colab": {
          "base_uri": "https://localhost:8080/"
        },
        "outputId": "9d0c1343-b9e5-4919-cfd5-f056a84c4290"
      },
      "source": [
        "# Obtém o(s) synset(s) para a palavra \"pain\" (dor)\n",
        "syn = wordnet.synsets(\"pain\")\n",
        "# Imprime a definição\n",
        "print(syn[0].definition())\n",
        "# Imprime exemplos de aplicação em uma frase\n",
        "print(syn[0].examples())"
      ],
      "execution_count": 39,
      "outputs": [
        {
          "output_type": "stream",
          "name": "stdout",
          "text": [
            "a symptom of some physical hurt or disorder\n",
            "['the patient developed severe pain and distension']\n"
          ]
        }
      ]
    },
    {
      "cell_type": "markdown",
      "metadata": {
        "id": "7wRbw0gMRAI4"
      },
      "source": [
        "\n",
        "\n",
        "> **O que é um `synset`?** É um conjunto de sinônimos que compartilham um mesmo significado.\n",
        "\n"
      ]
    },
    {
      "cell_type": "code",
      "metadata": {
        "id": "RYKpMj6n_zZi",
        "colab": {
          "base_uri": "https://localhost:8080/"
        },
        "outputId": "9664ac55-b63e-44dd-8d2d-b0d18afae127"
      },
      "source": [
        "# Temos uma lista de synset possíveis para a palavra pesquisada\n",
        "syn"
      ],
      "execution_count": 40,
      "outputs": [
        {
          "output_type": "execute_result",
          "data": {
            "text/plain": [
              "[Synset('pain.n.01'),\n",
              " Synset('pain.n.02'),\n",
              " Synset('pain.n.03'),\n",
              " Synset('pain.n.04'),\n",
              " Synset('annoyance.n.04'),\n",
              " Synset('trouble.v.05'),\n",
              " Synset('pain.v.02')]"
            ]
          },
          "metadata": {},
          "execution_count": 40
        }
      ]
    },
    {
      "cell_type": "markdown",
      "metadata": {
        "id": "GJMFEAdsRXva"
      },
      "source": [
        "\n",
        "\n",
        "> Cada `synset` possui um ou mais `lemmas`, que representam um significado particular de uma palavra específica.\n",
        "\n"
      ]
    },
    {
      "cell_type": "markdown",
      "metadata": {
        "id": "EPKwn0fUQlLj"
      },
      "source": [
        "#### Utilizando `synsets` e `lemmas` em português através do Open Multilingual Wordnet"
      ]
    },
    {
      "cell_type": "code",
      "metadata": {
        "id": "fEgCz3i8EZHX",
        "colab": {
          "base_uri": "https://localhost:8080/"
        },
        "outputId": "7d84f345-2524-48ad-9fcb-266f3f2c308a"
      },
      "source": [
        "nltk.download('omw-1.4')\n",
        "# Busca synsets em português\n",
        "wordnet.synsets(\"cão\", lang=\"por\")"
      ],
      "execution_count": 41,
      "outputs": [
        {
          "output_type": "stream",
          "name": "stderr",
          "text": [
            "[nltk_data] Downloading package omw-1.4 to /root/nltk_data...\n",
            "[nltk_data]   Package omw-1.4 is already up-to-date!\n"
          ]
        },
        {
          "output_type": "execute_result",
          "data": {
            "text/plain": [
              "[Synset('canine.n.02'),\n",
              " Synset('bitch.n.04'),\n",
              " Synset('dog.n.01'),\n",
              " Synset('devil.n.02')]"
            ]
          },
          "metadata": {},
          "execution_count": 41
        }
      ]
    },
    {
      "cell_type": "code",
      "metadata": {
        "id": "Z-OosBEvSojr",
        "colab": {
          "base_uri": "https://localhost:8080/"
        },
        "outputId": "93751c21-ad19-4643-c81a-2514587984b4"
      },
      "source": [
        "# Busca lemmas em português\n",
        "wordnet.lemmas(\"cão\", lang=\"por\")"
      ],
      "execution_count": 42,
      "outputs": [
        {
          "output_type": "execute_result",
          "data": {
            "text/plain": [
              "[Lemma('canine.n.02.cão'),\n",
              " Lemma('bitch.n.04.cão'),\n",
              " Lemma('dog.n.01.cão'),\n",
              " Lemma('devil.n.02.cão')]"
            ]
          },
          "metadata": {},
          "execution_count": 42
        }
      ]
    },
    {
      "cell_type": "markdown",
      "metadata": {
        "id": "uCIs8xwMBM4D"
      },
      "source": [
        "#### Atividade prática - Construindo uma função de **sugestão de sinônimos**\n",
        "Você já deve ter visto em aplicativos como o Microsoft Word a funcionalidade de sugerir sinônimos de uma palavras. Com o auxílio do WordNet conseguimos facilmente obter sinônimos de uma dada palavra.\n",
        "\n",
        "\n",
        "---\n",
        "\n",
        "\n",
        "![String-based similarity measures](https://docs.google.com/uc?export=download&id=1-VKDiXbIdSgwJzBvXjgdP47R-dPe--XG)"
      ]
    },
    {
      "cell_type": "code",
      "metadata": {
        "id": "bQ796E3uCEqk"
      },
      "source": [
        "def buscarSinonimos(palavra):\n",
        "  sinonimos = []\n",
        "  # Obter synsets para a palavra\n",
        "  synsets = wordnet.synsets(palavra, lang=\"por\")\n",
        "\n",
        "  # Iterar e coletar lemmas (sinônimos)\n",
        "  for synset in synsets:\n",
        "      for lemma in synset.lemmas(lang=\"por\"):\n",
        "          # Adicionar o nome do lemma (sinônimo) à lista, evitando repetições\n",
        "          if lemma.name() != palavra and lemma.name() not in sinonimos:\n",
        "              sinonimos.append(lemma.name())\n",
        "\n",
        "  return sinonimos\n",
        "\n"
      ],
      "execution_count": 13,
      "outputs": []
    },
    {
      "cell_type": "code",
      "metadata": {
        "id": "JmovaEpnCAW_",
        "colab": {
          "base_uri": "https://localhost:8080/"
        },
        "outputId": "5b6e3522-ed9d-42e9-ba9f-10b413241553"
      },
      "source": [
        "#A seguir pediremos que o usuário digite uma palavra\n",
        "palavra = input(\"Digite uma palavra: \")\n",
        "\n",
        "# Busca sinonimos da palavra\n",
        "buscarSinonimos(palavra)"
      ],
      "execution_count": 14,
      "outputs": [
        {
          "name": "stdout",
          "output_type": "stream",
          "text": [
            "Digite uma palavra: coletar\n"
          ]
        },
        {
          "output_type": "execute_result",
          "data": {
            "text/plain": [
              "['coligir', 'juntar', 'recolher', 'reunir', 'pegar']"
            ]
          },
          "metadata": {},
          "execution_count": 14
        }
      ]
    },
    {
      "cell_type": "markdown",
      "metadata": {
        "id": "gaSDpkfTC6ac"
      },
      "source": [
        "\n",
        "\n",
        "> **ATIVIDADE EXTRA**: Agora faça uma função de busca por palavras opostas (antônimos).\n",
        "DICA: além da função `name()` o objeto `lemma` tem também a função `.antonyms()`.\n",
        "\n"
      ]
    },
    {
      "cell_type": "code",
      "source": [
        "from nltk.corpus import wordnet\n"
      ],
      "metadata": {
        "id": "kbkWMZ2rDZ0A"
      },
      "execution_count": 46,
      "outputs": []
    },
    {
      "cell_type": "code",
      "metadata": {
        "id": "MzIufYKEDKVj"
      },
      "source": [
        "\n",
        "def buscarAntonimos(palavra):\n",
        "    antonimos = []\n",
        "\n",
        "    # Verificar se há synsets para a palavra em português\n",
        "    synsets = wordnet.synsets(palavra, lang=\"por\")\n",
        "\n",
        "    if not synsets:\n",
        "        print(f\"Nenhum conteúdo encontrado para a palavra '{palavra}' em português.\")\n",
        "        return antonimos\n",
        "\n",
        " # Iterar sobre os synsets e coletar antônimos\n",
        "    for synset in synsets:\n",
        "        for lemma in synset.lemmas(lang=\"por\"):\n",
        "            # Iterar sobre os antônimos de cada lemma\n",
        "            for antonimo in lemma.antonyms():\n",
        "                print(antonimo.name())\n",
        "                # Adicionar o nome do antônimo à lista sem repetições\n",
        "                if antonimo.name() not in antonimos:\n",
        "                    antonimos.append(antonimo.name())\n",
        "\n",
        "    if not antonimos:\n",
        "        print(f\"Nenhum antônimo encontrado para a palavra '{palavra}'.\")\n",
        "\n",
        "    return antonimos\n"
      ],
      "execution_count": 49,
      "outputs": []
    },
    {
      "cell_type": "code",
      "source": [
        "from nltk.corpus import wordnet\n",
        "\n",
        "def listarPalavrasComAntonimos(lang=\"por\"):\n",
        "    palavras_com_antonimos = set()\n",
        "\n",
        "    # Percorre todos os synsets disponíveis no WordNet\n",
        "    for synset in wordnet.all_synsets():\n",
        "        # Verifica se o synset tem lemmas em português\n",
        "        for lemma in synset.lemmas(lang=lang):\n",
        "            # Verifica se o lemma tem antônimos\n",
        "            if lemma.antonyms():\n",
        "                # Adiciona o nome do lemma à lista de palavras com antônimos\n",
        "                palavras_com_antonimos.add(lemma.name())\n",
        "\n",
        "    return sorted(palavras_com_antonimos)\n",
        "\n",
        "# Exemplo de uso\n",
        "palavras_com_antonimos = listarPalavrasComAntonimos()\n",
        "print(f\"Palavras em português com antônimos: {palavras_com_antonimos}\")\n"
      ],
      "metadata": {
        "id": "3PZ8s223EUz8",
        "outputId": "87db1a8a-5cfa-4d03-88cf-c6d9e8144887",
        "colab": {
          "base_uri": "https://localhost:8080/"
        }
      },
      "execution_count": 52,
      "outputs": [
        {
          "output_type": "stream",
          "name": "stdout",
          "text": [
            "Palavras em português com antônimos: ['Lady', 'RISC', 'a_priori', 'absorbency', 'anal', 'angular', 'artificial', 'atonal', 'bicameral', 'bimodal', 'bipolar', 'cardinal', 'central', 'cerebral', 'civil_law', 'congenial', 'continental', 'contralateral', 'cortex', 'crucial', 'digital', 'distal', 'dorsal', 'e-mail', 'email', 'equatorial', 'extramural', 'extraterritorial', 'fatal', 'fauna', 'federal', 'filial', 'flora', 'formal', 'fraternal', 'gradual', 'hardware', 'horizontal', 'in_vitro', 'individual', 'industrial', 'inferior', 'infernal', 'informal', 'instrumental', 'intramural', 'ipsilateral', 'irregular', 'legal', 'legato', 'liberal', 'literal', 'local', 'manual', 'material', 'maternal', 'mental', 'minimum', 'mononuclear', 'moral', 'mortal', 'multidimensional', 'musical', 'nadir', 'natural', 'neutral', 'nominal', 'normal', 'nuclear', 'off-line', 'off-site', 'on-line', 'ordinal', 'original', 'paranormal', 'parental', 'perinatal', 'perpendicular', 'piano', 'plural', 'polar', 'popular', 'posterior', 'provincial', 'quiet', 'racial', 'regular', 'rotor', 'rural', 'secular', 'sexual', 'sexy', 'similar', 'similitude', 'singular', 'social', 'software', 'staccato', 'stratified_language', 'superficial', 'superior', 'territorial', 'tonal', 'unidimensional', 'unilateral', 'unstratified_language', 'usual', 'utopia', 'ventral', 'vertical', 'vocal', 'yes']\n"
          ]
        }
      ]
    },
    {
      "cell_type": "code",
      "metadata": {
        "colab": {
          "base_uri": "https://localhost:8080/"
        },
        "outputId": "9e229c33-77ff-47e5-a672-41b5fb972815",
        "id": "nZaQIlOq-l40"
      },
      "source": [
        "#A seguir pediremos que o usuário digite uma palavra\n",
        "palavra = input(\"Digite uma palavra: \")\n",
        "\n",
        "# Busca sinonimos da palavra\n",
        "buscarAntonimos(palavra)\n"
      ],
      "execution_count": 54,
      "outputs": [
        {
          "output_type": "stream",
          "name": "stdout",
          "text": [
            "Digite uma palavra: literal\n",
            "figurative\n"
          ]
        },
        {
          "output_type": "execute_result",
          "data": {
            "text/plain": [
              "['figurative']"
            ]
          },
          "metadata": {},
          "execution_count": 54
        }
      ]
    },
    {
      "cell_type": "markdown",
      "metadata": {
        "id": "_mW-HLayieqE"
      },
      "source": [
        "### Acessando diferentes níveis hierárquicos\n",
        "Além dos sinônimos e antônimos podemos acessar termos com diferentes relações hierarquicas entre si."
      ]
    },
    {
      "cell_type": "markdown",
      "metadata": {
        "id": "TnXnApMYkaB2"
      },
      "source": [
        "#### Hiponímias"
      ]
    },
    {
      "cell_type": "code",
      "metadata": {
        "id": "2HfrYBsPio1p",
        "outputId": "bf800e08-3936-426c-e348-e5bee78358fb",
        "colab": {
          "base_uri": "https://localhost:8080/"
        }
      },
      "source": [
        "fruta = wordnet.synsets(\"fruta\", lang=\"por\")[0]\n",
        "fruta.hyponyms()"
      ],
      "execution_count": 55,
      "outputs": [
        {
          "output_type": "execute_result",
          "data": {
            "text/plain": [
              "[Synset('ackee.n.01'),\n",
              " Synset('anchovy_pear.n.02'),\n",
              " Synset('apple.n.01'),\n",
              " Synset('apricot.n.02'),\n",
              " Synset('avocado.n.01'),\n",
              " Synset('banana.n.02'),\n",
              " Synset('barbados_gooseberry.n.02'),\n",
              " Synset('berry.n.01'),\n",
              " Synset('breadfruit.n.02'),\n",
              " Synset('canistel.n.02'),\n",
              " Synset('carambola.n.02'),\n",
              " Synset('carissa_plum.n.01'),\n",
              " Synset('ceriman.n.02'),\n",
              " Synset('cherry.n.03'),\n",
              " Synset('citrus.n.01'),\n",
              " Synset('cling.n.01'),\n",
              " Synset('cocoa_plum.n.02'),\n",
              " Synset('custard_apple.n.02'),\n",
              " Synset('date.n.08'),\n",
              " Synset('dried_fruit.n.01'),\n",
              " Synset('durian.n.02'),\n",
              " Synset('elderberry.n.02'),\n",
              " Synset('feijoa.n.02'),\n",
              " Synset('fig.n.04'),\n",
              " Synset('freestone.n.01'),\n",
              " Synset('garambulla.n.02'),\n",
              " Synset('genip.n.02'),\n",
              " Synset('genipap.n.01'),\n",
              " Synset('grape.n.01'),\n",
              " Synset('guava.n.03'),\n",
              " Synset('hog_plum.n.03'),\n",
              " Synset('hog_plum.n.04'),\n",
              " Synset('jaboticaba.n.02'),\n",
              " Synset('jackfruit.n.02'),\n",
              " Synset('jujube.n.02'),\n",
              " Synset('kai_apple.n.01'),\n",
              " Synset('ketembilla.n.02'),\n",
              " Synset('kiwi.n.03'),\n",
              " Synset('lanseh.n.01'),\n",
              " Synset('litchi.n.02'),\n",
              " Synset('longanberry.n.02'),\n",
              " Synset('loquat.n.02'),\n",
              " Synset('mamey.n.02'),\n",
              " Synset('mango.n.02'),\n",
              " Synset('mangosteen.n.02'),\n",
              " Synset('marang.n.02'),\n",
              " Synset('medlar.n.03'),\n",
              " Synset('medlar.n.04'),\n",
              " Synset('melon.n.01'),\n",
              " Synset('mombin.n.02'),\n",
              " Synset('nectarine.n.02'),\n",
              " Synset('papaw.n.02'),\n",
              " Synset('papaya.n.02'),\n",
              " Synset('passion_fruit.n.01'),\n",
              " Synset('peach.n.03'),\n",
              " Synset('pear.n.01'),\n",
              " Synset('pineapple.n.02'),\n",
              " Synset('pitahaya.n.02'),\n",
              " Synset('plum.n.02'),\n",
              " Synset('plumcot.n.02'),\n",
              " Synset('pomegranate.n.02'),\n",
              " Synset('prickly_pear.n.02'),\n",
              " Synset('pulasan.n.02'),\n",
              " Synset('quandong.n.04'),\n",
              " Synset('quince.n.02'),\n",
              " Synset('rambutan.n.02'),\n",
              " Synset('rose_apple.n.02'),\n",
              " Synset('sapodilla.n.02'),\n",
              " Synset('sapote.n.02'),\n",
              " Synset('sorb.n.01'),\n",
              " Synset('sour_gourd.n.02'),\n",
              " Synset('sour_gourd.n.03'),\n",
              " Synset('tamarind.n.02'),\n",
              " Synset('tangelo.n.02'),\n",
              " Synset('windfall.n.01')]"
            ]
          },
          "metadata": {},
          "execution_count": 55
        }
      ]
    },
    {
      "cell_type": "markdown",
      "metadata": {
        "id": "vUbKu969klHV"
      },
      "source": [
        "#### Hiperonímias"
      ]
    },
    {
      "cell_type": "code",
      "metadata": {
        "id": "vCgbOWWPklQi",
        "outputId": "290a125f-a770-4544-962d-a5365923d23e",
        "colab": {
          "base_uri": "https://localhost:8080/"
        }
      },
      "source": [
        "cidade = wordnet.synsets(\"cidade\", lang=\"por\")[0]\n",
        "cidade.hypernyms()"
      ],
      "execution_count": 56,
      "outputs": [
        {
          "output_type": "execute_result",
          "data": {
            "text/plain": [
              "[Synset('state.n.04')]"
            ]
          },
          "metadata": {},
          "execution_count": 56
        }
      ]
    },
    {
      "cell_type": "markdown",
      "metadata": {
        "id": "e2N9y8obn3d_"
      },
      "source": [
        "É possível encontrar o hiperônimo mais próximo entre dois termos."
      ]
    },
    {
      "cell_type": "code",
      "metadata": {
        "id": "nZOGN7v3n3nZ",
        "outputId": "0c70ccbb-11c0-49a9-940d-6189febffad8",
        "colab": {
          "base_uri": "https://localhost:8080/"
        }
      },
      "source": [
        "bulldog = wordnet.synsets(\"bulldog\")[0]\n",
        "pug = wordnet.synsets(\"pug\")[0]\n",
        "bulldog.lowest_common_hypernyms(pug)"
      ],
      "execution_count": 57,
      "outputs": [
        {
          "output_type": "execute_result",
          "data": {
            "text/plain": [
              "[Synset('dog.n.01')]"
            ]
          },
          "metadata": {},
          "execution_count": 57
        }
      ]
    },
    {
      "cell_type": "markdown",
      "metadata": {
        "id": "O4JEvwWKlUpa"
      },
      "source": [
        "#### Meronímias"
      ]
    },
    {
      "cell_type": "code",
      "metadata": {
        "id": "G_oX-M25lUwy",
        "outputId": "fa812272-a4f0-44bb-82c6-4687e26efeb9",
        "colab": {
          "base_uri": "https://localhost:8080/"
        }
      },
      "source": [
        "mao = wordnet.synsets(\"mão\", lang=\"por\")[0]\n",
        "mao.part_meronyms()"
      ],
      "execution_count": 58,
      "outputs": [
        {
          "output_type": "execute_result",
          "data": {
            "text/plain": [
              "[Synset('ball.n.10'),\n",
              " Synset('digital_arteries.n.01'),\n",
              " Synset('finger.n.01'),\n",
              " Synset('intercapitular_vein.n.01'),\n",
              " Synset('metacarpal_artery.n.01'),\n",
              " Synset('metacarpal_vein.n.01'),\n",
              " Synset('metacarpus.n.01'),\n",
              " Synset('palm.n.01')]"
            ]
          },
          "metadata": {},
          "execution_count": 58
        }
      ]
    },
    {
      "cell_type": "code",
      "metadata": {
        "id": "YeVEPpLMlq7K",
        "outputId": "0c979212-96e6-4d93-c40c-c2c78bc39363",
        "colab": {
          "base_uri": "https://localhost:8080/"
        }
      },
      "source": [
        "saliva = wordnet.synsets(\"saliva\", lang=\"por\")[0]\n",
        "saliva.substance_meronyms()"
      ],
      "execution_count": 59,
      "outputs": [
        {
          "output_type": "execute_result",
          "data": {
            "text/plain": [
              "[Synset('ptyalin.n.01')]"
            ]
          },
          "metadata": {},
          "execution_count": 59
        }
      ]
    },
    {
      "cell_type": "markdown",
      "metadata": {
        "id": "_Yf0YSKHlU41"
      },
      "source": [
        "#### Holonímias"
      ]
    },
    {
      "cell_type": "code",
      "metadata": {
        "id": "3mUFYxHUlU_E",
        "outputId": "43e42494-1995-4709-bbb4-e13df7a0b0bb",
        "colab": {
          "base_uri": "https://localhost:8080/"
        }
      },
      "source": [
        "arvore = wordnet.synsets(\"árvore\", lang=\"por\")[0]\n",
        "arvore.member_holonyms()"
      ],
      "execution_count": 60,
      "outputs": [
        {
          "output_type": "execute_result",
          "data": {
            "text/plain": [
              "[Synset('forest.n.01')]"
            ]
          },
          "metadata": {},
          "execution_count": 60
        }
      ]
    },
    {
      "cell_type": "markdown",
      "metadata": {
        "id": "0iZCs6hmq6nQ"
      },
      "source": [
        "#### Polissemias"
      ]
    },
    {
      "cell_type": "markdown",
      "metadata": {
        "id": "_JA0-WyerBBr"
      },
      "source": [
        "##### **Atividade prática** - Buscando polissemias\n",
        "A polissemia é a quantidade de sentidos/significados de uma palavra.\n",
        "\n",
        "Utilizando a interface do WordNet podemos determinar que o substantivo \"cachorro\" tem 7 diferentes significados ao utilizar o código: `len(wordnet.synsets('dog', 'n'))`\n",
        "\n",
        "Calcule a média de polissemias entre os substantivos (n), verbos (v) e adjetivos (a).\n",
        "\n",
        "> **DICA**: Você pode obter todos `synsets` substantivos usando `wordnet.all_synsets('n')`\n",
        "\n",
        "\n",
        "\n"
      ]
    },
    {
      "cell_type": "code",
      "metadata": {
        "id": "SFBH18rfq6xj"
      },
      "source": [],
      "execution_count": null,
      "outputs": []
    },
    {
      "cell_type": "markdown",
      "metadata": {
        "id": "6x0pHTX1X1AO"
      },
      "source": [
        "### Calculando Similaridade semântica entre palavras\n",
        "Algumas funções de similaridade *knowledge-based* já são implementadas pela interface do WordNet no NLTK.\n",
        "\n",
        "![Knowledge-based similarity measures](https://docs.google.com/uc?export=download&id=1g-3cWh9BF6Ex8oWDv77L1mdagUq0yc0v)"
      ]
    },
    {
      "cell_type": "code",
      "metadata": {
        "id": "HTR95Ekvch42"
      },
      "source": [
        "gato = wordnet.synsets(\"gato\", lang=\"por\")[0]\n",
        "cachorro = wordnet.synsets(\"dog\")[0]\n",
        "\n",
        "chocar = wordnet.synsets(\"chocar\", lang=\"por\")[0]\n",
        "colidir = wordnet.synsets(\"colidir\", lang=\"por\")[0]\n",
        "\n",
        "caneta = wordnet.synsets(\"caneta\", lang=\"por\")[0]"
      ],
      "execution_count": 61,
      "outputs": []
    },
    {
      "cell_type": "code",
      "metadata": {
        "id": "FLI-lBBIdDnY",
        "outputId": "0a6ff1dd-ae1b-4ddc-e236-9b31347451b9",
        "colab": {
          "base_uri": "https://localhost:8080/"
        }
      },
      "source": [
        "gato"
      ],
      "execution_count": 62,
      "outputs": [
        {
          "output_type": "execute_result",
          "data": {
            "text/plain": [
              "Synset('cat.n.01')"
            ]
          },
          "metadata": {},
          "execution_count": 62
        }
      ]
    },
    {
      "cell_type": "code",
      "metadata": {
        "id": "IoU5bEw7dDuj",
        "outputId": "b49d606d-bca8-4a31-8118-bab7461af7c4",
        "colab": {
          "base_uri": "https://localhost:8080/"
        }
      },
      "source": [
        "cachorro"
      ],
      "execution_count": 63,
      "outputs": [
        {
          "output_type": "execute_result",
          "data": {
            "text/plain": [
              "Synset('dog.n.01')"
            ]
          },
          "metadata": {},
          "execution_count": 63
        }
      ]
    },
    {
      "cell_type": "markdown",
      "metadata": {
        "id": "ZLGja1jWc4Gp"
      },
      "source": [
        "\n",
        "\n",
        "> **IMPORTANTE**: Não importa o idioma que você busque, a referência será sempre aos mesmos `synsets`\n",
        "\n"
      ]
    },
    {
      "cell_type": "markdown",
      "metadata": {
        "id": "fadmA2UqZnHj"
      },
      "source": [
        "#### **Path Similarity** (path)\n",
        "Retorna uma pontuação indicando o quão semelhantes os sentidos de duas palavras são, com base no caminho mais curto que conecta os sentidos na taxonomia *is-a* (é-um) (Hiperonímia / Hiponímia). A pontuação está no intervalo de 0 a 1."
      ]
    },
    {
      "cell_type": "code",
      "metadata": {
        "id": "exSZ-A0eX7On",
        "outputId": "9899b770-3139-4237-beb8-f55597aa93fc",
        "colab": {
          "base_uri": "https://localhost:8080/"
        }
      },
      "source": [
        "cachorro.path_similarity(gato)"
      ],
      "execution_count": 64,
      "outputs": [
        {
          "output_type": "execute_result",
          "data": {
            "text/plain": [
              "0.2"
            ]
          },
          "metadata": {},
          "execution_count": 64
        }
      ]
    },
    {
      "cell_type": "code",
      "metadata": {
        "id": "XwoBGMaHeMGi",
        "outputId": "4149b11e-abc3-4823-f53a-472ba31a255f",
        "colab": {
          "base_uri": "https://localhost:8080/"
        }
      },
      "source": [
        "chocar.path_similarity(colidir)"
      ],
      "execution_count": 65,
      "outputs": [
        {
          "output_type": "execute_result",
          "data": {
            "text/plain": [
              "0.5"
            ]
          },
          "metadata": {},
          "execution_count": 65
        }
      ]
    },
    {
      "cell_type": "code",
      "metadata": {
        "id": "8ha2c4rCeMO8",
        "outputId": "0ba6305d-480f-4d61-f05b-4ae22e50812a",
        "colab": {
          "base_uri": "https://localhost:8080/"
        }
      },
      "source": [
        "gato.path_similarity(caneta)"
      ],
      "execution_count": 66,
      "outputs": [
        {
          "output_type": "execute_result",
          "data": {
            "text/plain": [
              "0.058823529411764705"
            ]
          },
          "metadata": {},
          "execution_count": 66
        }
      ]
    },
    {
      "cell_type": "markdown",
      "metadata": {
        "id": "-io-45yxZwck"
      },
      "source": [
        "#### **Leacock-Chodorow Similarity** (lch)\n",
        "Similar ao anterior, porém utiliza também a profundidade máxima da taxonomia em que os sentidos ocorrem no cálculo."
      ]
    },
    {
      "cell_type": "code",
      "metadata": {
        "id": "o6c2W1a2ZwkW",
        "outputId": "9f719780-de42-4812-e578-1b89adb04fac",
        "colab": {
          "base_uri": "https://localhost:8080/"
        }
      },
      "source": [
        "cachorro.lch_similarity(gato)"
      ],
      "execution_count": 67,
      "outputs": [
        {
          "output_type": "execute_result",
          "data": {
            "text/plain": [
              "2.0281482472922856"
            ]
          },
          "metadata": {},
          "execution_count": 67
        }
      ]
    },
    {
      "cell_type": "code",
      "metadata": {
        "id": "EiwqW-raesdE",
        "outputId": "04c4f2a5-eea7-406b-9bc6-93bb260ba1f3",
        "colab": {
          "base_uri": "https://localhost:8080/"
        }
      },
      "source": [
        "chocar.lch_similarity(colidir)"
      ],
      "execution_count": 68,
      "outputs": [
        {
          "output_type": "execute_result",
          "data": {
            "text/plain": [
              "2.5649493574615367"
            ]
          },
          "metadata": {},
          "execution_count": 68
        }
      ]
    },
    {
      "cell_type": "code",
      "metadata": {
        "id": "xuDGU4_Pesh9",
        "outputId": "87b939f9-e774-42b7-86d4-b6aea881f311",
        "colab": {
          "base_uri": "https://localhost:8080/"
        }
      },
      "source": [
        "gato.lch_similarity(caneta)"
      ],
      "execution_count": 69,
      "outputs": [
        {
          "output_type": "execute_result",
          "data": {
            "text/plain": [
              "0.8043728156701697"
            ]
          },
          "metadata": {},
          "execution_count": 69
        }
      ]
    },
    {
      "cell_type": "markdown",
      "metadata": {
        "id": "UIK1-1B1Zwr6"
      },
      "source": [
        "#### **Wu-Palmer Similarity** (wup)\n",
        "Retorna uma pontuação indicando o quão  semelhantes os sentidos de duas palavras são, com base na profundidade dos dois sentidos na taxonomia e no seu nó ancestral mais específico."
      ]
    },
    {
      "cell_type": "code",
      "metadata": {
        "id": "11ghhQ5VZw1h",
        "outputId": "c98501d5-4e0a-4726-bb82-228b77c1a56a",
        "colab": {
          "base_uri": "https://localhost:8080/"
        }
      },
      "source": [
        "cachorro.wup_similarity(gato)"
      ],
      "execution_count": 70,
      "outputs": [
        {
          "output_type": "execute_result",
          "data": {
            "text/plain": [
              "0.8571428571428571"
            ]
          },
          "metadata": {},
          "execution_count": 70
        }
      ]
    },
    {
      "cell_type": "code",
      "metadata": {
        "id": "AOAWtr4kgnno",
        "outputId": "9b874ed4-ca60-47bd-bdb8-021292e0315a",
        "colab": {
          "base_uri": "https://localhost:8080/"
        }
      },
      "source": [
        "chocar.wup_similarity(colidir)"
      ],
      "execution_count": 71,
      "outputs": [
        {
          "output_type": "execute_result",
          "data": {
            "text/plain": [
              "0.8"
            ]
          },
          "metadata": {},
          "execution_count": 71
        }
      ]
    },
    {
      "cell_type": "code",
      "metadata": {
        "id": "Pm_yFtRwgnu-",
        "outputId": "7b3fe4f4-d513-462c-ada1-4fc8f7852fc5",
        "colab": {
          "base_uri": "https://localhost:8080/"
        }
      },
      "source": [
        "gato.wup_similarity(caneta)"
      ],
      "execution_count": 72,
      "outputs": [
        {
          "output_type": "execute_result",
          "data": {
            "text/plain": [
              "0.3333333333333333"
            ]
          },
          "metadata": {},
          "execution_count": 72
        }
      ]
    },
    {
      "cell_type": "markdown",
      "metadata": {
        "id": "9OiN-gkc7X_k"
      },
      "source": [
        "## Referências e Material complementar\n",
        "\n",
        "*   [NLTK WordNet Interface](http://www.nltk.org/howto/wordnet.html)\n",
        "*   [openWordnet-PT](https://github.com/own-pt/openWordnet-PT)\n",
        "*   [WordNet.PT](http://wordnet.pt/)\n"
      ]
    },
    {
      "cell_type": "markdown",
      "metadata": {
        "id": "Thb-vTSMrney"
      },
      "source": [
        "Este notebook foi produzido por Prof. [Lucas Oliveira](http://lattes.cnpq.br/3611246009892500)."
      ]
    }
  ]
}